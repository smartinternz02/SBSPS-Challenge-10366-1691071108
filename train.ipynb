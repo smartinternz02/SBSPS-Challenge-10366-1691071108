{
 "cells": [
  {
   "cell_type": "code",
   "execution_count": 21,
   "metadata": {},
   "outputs": [
    {
     "data": {
      "text/html": [
       "<div>\n",
       "<style scoped>\n",
       "    .dataframe tbody tr th:only-of-type {\n",
       "        vertical-align: middle;\n",
       "    }\n",
       "\n",
       "    .dataframe tbody tr th {\n",
       "        vertical-align: top;\n",
       "    }\n",
       "\n",
       "    .dataframe thead th {\n",
       "        text-align: right;\n",
       "    }\n",
       "</style>\n",
       "<table border=\"1\" class=\"dataframe\">\n",
       "  <thead>\n",
       "    <tr style=\"text-align: right;\">\n",
       "      <th></th>\n",
       "      <th>title</th>\n",
       "      <th>tags</th>\n",
       "    </tr>\n",
       "  </thead>\n",
       "  <tbody>\n",
       "    <tr>\n",
       "      <th>0</th>\n",
       "      <td>How to draw a stacked dotplot in R?</td>\n",
       "      <td>['r']</td>\n",
       "    </tr>\n",
       "    <tr>\n",
       "      <th>1</th>\n",
       "      <td>mysql select all records where a datetime fiel...</td>\n",
       "      <td>['php', 'mysql']</td>\n",
       "    </tr>\n",
       "  </tbody>\n",
       "</table>\n",
       "</div>"
      ],
      "text/plain": [
       "                                               title              tags\n",
       "0                How to draw a stacked dotplot in R?             ['r']\n",
       "1  mysql select all records where a datetime fiel...  ['php', 'mysql']"
      ]
     },
     "execution_count": 21,
     "metadata": {},
     "output_type": "execute_result"
    }
   ],
   "source": [
    "import pandas as pd\n",
    "df=pd.read_csv('stackoverflowtags.csv')\n",
    "df.head(2)"
   ]
  },
  {
   "cell_type": "code",
   "execution_count": 22,
   "metadata": {},
   "outputs": [
    {
     "data": {
      "text/plain": [
       "title\n",
       "Conversion failed when converting date and/or time from character string    3\n",
       "\"FormatException was unhandled\" Input string was not in a correct format    2\n",
       "Input string was not in a correct format                                    2\n",
       "JavaScript runtime error: '$' is undefined                                  2\n",
       "Object reference not set to an instance of an object                        2\n",
       "                                                                           ..\n",
       "NSPredicate predicateWithFormat:(NSString*) inconsistency?                  1\n",
       "document.location.href is not working in IE                                 1\n",
       "segmentation fault in C, core dumped, gdb output                            1\n",
       "C# - are there any events fired right after loading a form?                 1\n",
       "Create a List of primitive int?                                             1\n",
       "Name: count, Length: 99984, dtype: int64"
      ]
     },
     "execution_count": 22,
     "metadata": {},
     "output_type": "execute_result"
    }
   ],
   "source": [
    "df.title.value_counts() "
   ]
  },
  {
   "cell_type": "code",
   "execution_count": 23,
   "metadata": {},
   "outputs": [
    {
     "data": {
      "text/plain": [
       "title\n",
       "How to draw a stacked dotplot in R?                                            1\n",
       "Hibernate JPA - ManyToOne relationship not populated                           1\n",
       "how to work treeview nodes contains in asp.net?                                1\n",
       "Initialize script                                                              1\n",
       "ASP.NET C# Must declare the scalar variable                                    1\n",
       "                                                                              ..\n",
       "Can jquery animate the css background property?                                1\n",
       "how to access variable from php in jquery using ajax(here i am using Json)     1\n",
       "Best way to handle session management in spring mvc filters or interceptors    1\n",
       "Can't run the .java file                                                       1\n",
       "Create a List of primitive int?                                                1\n",
       "Name: count, Length: 99984, dtype: int64"
      ]
     },
     "execution_count": 23,
     "metadata": {},
     "output_type": "execute_result"
    }
   ],
   "source": [
    "df.title=df.title.drop_duplicates(keep='first') \n",
    "df.title.value_counts()"
   ]
  },
  {
   "cell_type": "code",
   "execution_count": 24,
   "metadata": {},
   "outputs": [
    {
     "data": {
      "text/plain": [
       "['how', 'to', 'draw', 'a', 'stacked', 'dotplot', 'in', 'r']"
      ]
     },
     "execution_count": 24,
     "metadata": {},
     "output_type": "execute_result"
    }
   ],
   "source": [
    "import re       \n",
    "\n",
    "\n",
    "\n",
    "from nltk.corpus import stopwords \n",
    "from nltk.stem.snowball import SnowballStemmer\n",
    "from nltk.stem.wordnet import WordNetLemmatizer\n",
    "\n",
    "\n",
    "def clean(s):\n",
    "    s=str(s)\n",
    "    s=s.lower()\n",
    "    html=re.compile('<.*?>')   \n",
    "    cleaned = re.sub(html,' ',s)\n",
    "    fil=[]\n",
    "    for i in cleaned.split():   \n",
    "        if i!='c++':\n",
    "            cleaned=re.sub('[^A-Za-z]', '', i) \n",
    "            fil.append(cleaned)\n",
    "        else:\n",
    "            fil.append(i)\n",
    "    return fil       \n",
    "\n",
    "stop=set(stopwords.words('english'))  \n",
    "sno=SnowballStemmer('english')\n",
    "clean(df.title[0])              "
   ]
  },
  {
   "cell_type": "code",
   "execution_count": 25,
   "metadata": {},
   "outputs": [],
   "source": [
    "\n",
    "\n",
    "def stem(s):\n",
    "    fil=[]\n",
    "    for i in s:\n",
    "        if i not in stop:\n",
    "            s=(sno.stem(i).encode('utf8'))  \n",
    "            fil.append(s)\n",
    "    s=b' '.join(fil)\n",
    "    return s"
   ]
  },
  {
   "cell_type": "code",
   "execution_count": 26,
   "metadata": {},
   "outputs": [],
   "source": [
    "\n",
    "ques=[]\n",
    "for j in df.title:\n",
    "    ques.append(stem(clean(j)))\n",
    "df['cleanQues'] = ques\n",
    "\n",
    "import re\n",
    "ctags=[]\n",
    "for i in df.tags:\n",
    "    ctags.append(re.sub('[^A-Za-z#+-]', ' ', i)) \n",
    "df['cleanTags']=ctags"
   ]
  },
  {
   "cell_type": "code",
   "execution_count": 27,
   "metadata": {},
   "outputs": [
    {
     "data": {
      "text/html": [
       "<div>\n",
       "<style scoped>\n",
       "    .dataframe tbody tr th:only-of-type {\n",
       "        vertical-align: middle;\n",
       "    }\n",
       "\n",
       "    .dataframe tbody tr th {\n",
       "        vertical-align: top;\n",
       "    }\n",
       "\n",
       "    .dataframe thead th {\n",
       "        text-align: right;\n",
       "    }\n",
       "</style>\n",
       "<table border=\"1\" class=\"dataframe\">\n",
       "  <thead>\n",
       "    <tr style=\"text-align: right;\">\n",
       "      <th></th>\n",
       "      <th>title</th>\n",
       "      <th>tags</th>\n",
       "      <th>cleanQues</th>\n",
       "      <th>cleanTags</th>\n",
       "    </tr>\n",
       "  </thead>\n",
       "  <tbody>\n",
       "    <tr>\n",
       "      <th>0</th>\n",
       "      <td>How to draw a stacked dotplot in R?</td>\n",
       "      <td>['r']</td>\n",
       "      <td>b'draw stack dotplot r'</td>\n",
       "      <td>r</td>\n",
       "    </tr>\n",
       "    <tr>\n",
       "      <th>1</th>\n",
       "      <td>mysql select all records where a datetime fiel...</td>\n",
       "      <td>['php', 'mysql']</td>\n",
       "      <td>b'mysql select record datetim field less speci...</td>\n",
       "      <td>php    mysql</td>\n",
       "    </tr>\n",
       "    <tr>\n",
       "      <th>2</th>\n",
       "      <td>How to terminate windows phone 8.1 app</td>\n",
       "      <td>['c#']</td>\n",
       "      <td>b'termin window phone  app'</td>\n",
       "      <td>c#</td>\n",
       "    </tr>\n",
       "    <tr>\n",
       "      <th>3</th>\n",
       "      <td>get current time in a specific country via jquery</td>\n",
       "      <td>['javascript', 'jquery']</td>\n",
       "      <td>b'get current time specif countri via jqueri'</td>\n",
       "      <td>javascript    jquery</td>\n",
       "    </tr>\n",
       "    <tr>\n",
       "      <th>4</th>\n",
       "      <td>Configuring Tomcat to Use SSL</td>\n",
       "      <td>['java']</td>\n",
       "      <td>b'configur tomcat use ssl'</td>\n",
       "      <td>java</td>\n",
       "    </tr>\n",
       "    <tr>\n",
       "      <th>5</th>\n",
       "      <td>Awesome nested set plugin - how to add new chi...</td>\n",
       "      <td>['ruby-on-rails']</td>\n",
       "      <td>b'awesom nest set plugin  add new children tre...</td>\n",
       "      <td>ruby-on-rails</td>\n",
       "    </tr>\n",
       "    <tr>\n",
       "      <th>6</th>\n",
       "      <td>How to create map from JSON response in Ruby o...</td>\n",
       "      <td>['ruby', 'ruby-on-rails-3', 'json']</td>\n",
       "      <td>b'creat map json respons rubi rail '</td>\n",
       "      <td>ruby    ruby-on-rails-     json</td>\n",
       "    </tr>\n",
       "    <tr>\n",
       "      <th>7</th>\n",
       "      <td>rspec test if method is called</td>\n",
       "      <td>['ruby']</td>\n",
       "      <td>b'rspec test method call'</td>\n",
       "      <td>ruby</td>\n",
       "    </tr>\n",
       "    <tr>\n",
       "      <th>8</th>\n",
       "      <td>SpringBoot Catalina LifeCycle Exception</td>\n",
       "      <td>['java', 'spring', 'spring-mvc']</td>\n",
       "      <td>b'springboot catalina lifecycl except'</td>\n",
       "      <td>java    spring    spring-mvc</td>\n",
       "    </tr>\n",
       "    <tr>\n",
       "      <th>9</th>\n",
       "      <td>How to import data from excel to mysql databas...</td>\n",
       "      <td>['php', 'codeigniter']</td>\n",
       "      <td>b'import data excel mysql databas use php'</td>\n",
       "      <td>php    codeigniter</td>\n",
       "    </tr>\n",
       "  </tbody>\n",
       "</table>\n",
       "</div>"
      ],
      "text/plain": [
       "                                               title  \\\n",
       "0                How to draw a stacked dotplot in R?   \n",
       "1  mysql select all records where a datetime fiel...   \n",
       "2             How to terminate windows phone 8.1 app   \n",
       "3  get current time in a specific country via jquery   \n",
       "4                      Configuring Tomcat to Use SSL   \n",
       "5  Awesome nested set plugin - how to add new chi...   \n",
       "6  How to create map from JSON response in Ruby o...   \n",
       "7                     rspec test if method is called   \n",
       "8            SpringBoot Catalina LifeCycle Exception   \n",
       "9  How to import data from excel to mysql databas...   \n",
       "\n",
       "                                  tags  \\\n",
       "0                                ['r']   \n",
       "1                     ['php', 'mysql']   \n",
       "2                               ['c#']   \n",
       "3             ['javascript', 'jquery']   \n",
       "4                             ['java']   \n",
       "5                    ['ruby-on-rails']   \n",
       "6  ['ruby', 'ruby-on-rails-3', 'json']   \n",
       "7                             ['ruby']   \n",
       "8     ['java', 'spring', 'spring-mvc']   \n",
       "9               ['php', 'codeigniter']   \n",
       "\n",
       "                                           cleanQues  \\\n",
       "0                            b'draw stack dotplot r'   \n",
       "1  b'mysql select record datetim field less speci...   \n",
       "2                        b'termin window phone  app'   \n",
       "3      b'get current time specif countri via jqueri'   \n",
       "4                         b'configur tomcat use ssl'   \n",
       "5  b'awesom nest set plugin  add new children tre...   \n",
       "6               b'creat map json respons rubi rail '   \n",
       "7                          b'rspec test method call'   \n",
       "8             b'springboot catalina lifecycl except'   \n",
       "9         b'import data excel mysql databas use php'   \n",
       "\n",
       "                             cleanTags  \n",
       "0                                  r    \n",
       "1                       php    mysql    \n",
       "2                                 c#    \n",
       "3               javascript    jquery    \n",
       "4                               java    \n",
       "5                      ruby-on-rails    \n",
       "6    ruby    ruby-on-rails-     json    \n",
       "7                               ruby    \n",
       "8       java    spring    spring-mvc    \n",
       "9                 php    codeigniter    "
      ]
     },
     "execution_count": 27,
     "metadata": {},
     "output_type": "execute_result"
    }
   ],
   "source": [
    "df.head(10)"
   ]
  },
  {
   "cell_type": "code",
   "execution_count": 28,
   "metadata": {},
   "outputs": [
    {
     "data": {
      "text/html": [
       "<div>\n",
       "<style scoped>\n",
       "    .dataframe tbody tr th:only-of-type {\n",
       "        vertical-align: middle;\n",
       "    }\n",
       "\n",
       "    .dataframe tbody tr th {\n",
       "        vertical-align: top;\n",
       "    }\n",
       "\n",
       "    .dataframe thead th {\n",
       "        text-align: right;\n",
       "    }\n",
       "</style>\n",
       "<table border=\"1\" class=\"dataframe\">\n",
       "  <thead>\n",
       "    <tr style=\"text-align: right;\">\n",
       "      <th></th>\n",
       "      <th>text</th>\n",
       "      <th>tags</th>\n",
       "    </tr>\n",
       "  </thead>\n",
       "  <tbody>\n",
       "    <tr>\n",
       "      <th>0</th>\n",
       "      <td>b'draw stack dotplot r'</td>\n",
       "      <td>r</td>\n",
       "    </tr>\n",
       "    <tr>\n",
       "      <th>1</th>\n",
       "      <td>b'mysql select record datetim field less speci...</td>\n",
       "      <td>php    mysql</td>\n",
       "    </tr>\n",
       "    <tr>\n",
       "      <th>2</th>\n",
       "      <td>b'termin window phone  app'</td>\n",
       "      <td>c#</td>\n",
       "    </tr>\n",
       "    <tr>\n",
       "      <th>3</th>\n",
       "      <td>b'get current time specif countri via jqueri'</td>\n",
       "      <td>javascript    jquery</td>\n",
       "    </tr>\n",
       "    <tr>\n",
       "      <th>4</th>\n",
       "      <td>b'configur tomcat use ssl'</td>\n",
       "      <td>java</td>\n",
       "    </tr>\n",
       "  </tbody>\n",
       "</table>\n",
       "</div>"
      ],
      "text/plain": [
       "                                                text                      tags\n",
       "0                            b'draw stack dotplot r'                       r  \n",
       "1  b'mysql select record datetim field less speci...            php    mysql  \n",
       "2                        b'termin window phone  app'                      c#  \n",
       "3      b'get current time specif countri via jqueri'    javascript    jquery  \n",
       "4                         b'configur tomcat use ssl'                    java  "
      ]
     },
     "execution_count": 28,
     "metadata": {},
     "output_type": "execute_result"
    }
   ],
   "source": [
    "\n",
    "\n",
    "d=pd.DataFrame()\n",
    "d['text']=df.cleanQues\n",
    "d['tags']=df.cleanTags\n",
    "d.to_csv('datafinal',index=False)\n",
    "df = pd.read_csv('datafinal')\n",
    "df.head()"
   ]
  },
  {
   "cell_type": "code",
   "execution_count": 29,
   "metadata": {},
   "outputs": [],
   "source": [
    "\n",
    "\n",
    "from sklearn.model_selection import train_test_split\n",
    "x_train,x_test,y_train,y_test=train_test_split(df.text, df.tags, test_size=0.2, random_state=9)"
   ]
  },
  {
   "cell_type": "code",
   "execution_count": 30,
   "metadata": {},
   "outputs": [
    {
     "name": "stderr",
     "output_type": "stream",
     "text": [
      "C:\\Users\\DHIRAAJ\\AppData\\Roaming\\Python\\Python311\\site-packages\\sklearn\\feature_extraction\\text.py:528: UserWarning: The parameter 'token_pattern' will not be used since 'tokenizer' is not None'\n",
      "  warnings.warn(\n"
     ]
    }
   ],
   "source": [
    "from sklearn.feature_extraction.text import TfidfVectorizer,CountVectorizer\n",
    "tfvectorizer = TfidfVectorizer(min_df=0.00009, max_features=200000, smooth_idf=True, norm=\"l2\",\n",
    "                             tokenizer = lambda x: x.split(), sublinear_tf=False, ngram_range=(1,3))\n",
    "x_train_multilabel = tfvectorizer.fit_transform(x_train)\n",
    "x_test_multilabel = tfvectorizer.transform(x_test)\n",
    "\n",
    "vectorizer = CountVectorizer(tokenizer = lambda x: x.split(), binary=True)\n",
    "y_train_multilabel = vectorizer.fit_transform(y_train)\n",
    "y_test_multilabel = vectorizer.transform(y_test)"
   ]
  },
  {
   "cell_type": "code",
   "execution_count": 31,
   "metadata": {},
   "outputs": [
    {
     "name": "stdout",
     "output_type": "stream",
     "text": [
      "accuracy : 0.3303\n",
      "macro f1 score : 0.4913033348345524\n",
      "micro f1 scoore : 0.6390224920227254\n",
      "hamming loss : 0.0115955\n"
     ]
    }
   ],
   "source": [
    "\n",
    "from sklearn.multiclass import OneVsRestClassifier\n",
    "from sklearn.linear_model import SGDClassifier\n",
    "from sklearn import metrics\n",
    "from sklearn.metrics import f1_score,precision_score,recall_score\n",
    "\n",
    "\n",
    "classifier = OneVsRestClassifier(SGDClassifier(loss='log', max_iter = 5, tol = None, alpha=0.00001, penalty='l1'), n_jobs=-1)\n",
    "classifier.fit(x_train_multilabel, y_train_multilabel)\n",
    "predictions = classifier.predict(x_test_multilabel)\n",
    "\n",
    "print(\"accuracy :\",metrics.accuracy_score(y_test_multilabel,predictions))\n",
    "print(\"macro f1 score :\",metrics.f1_score(y_test_multilabel, predictions, average = 'macro'))\n",
    "print(\"micro f1 scoore :\",metrics.f1_score(y_test_multilabel, predictions, average = 'micro'))\n",
    "print(\"hamming loss :\",metrics.hamming_loss(y_test_multilabel,predictions))"
   ]
  },
  {
   "cell_type": "code",
   "execution_count": 32,
   "metadata": {
    "scrolled": false
   },
   "outputs": [
    {
     "name": "stdout",
     "output_type": "stream",
     "text": [
      "Precision recall report :\n",
      "               precision    recall  f1-score   support\n",
      "\n",
      "           0       0.78      0.47      0.58       327\n",
      "           1       0.73      0.11      0.20        96\n",
      "           2       0.92      0.52      0.67       555\n",
      "           3       0.95      0.71      0.81       294\n",
      "           4       0.71      0.20      0.32        83\n",
      "           5       0.53      0.38      0.44       447\n",
      "           6       0.86      0.40      0.54       950\n",
      "           7       0.72      0.31      0.44       588\n",
      "           8       0.83      0.59      0.69      3763\n",
      "           9       0.90      0.46      0.61      1295\n",
      "          10       0.35      0.06      0.11        96\n",
      "          11       0.17      0.01      0.02       101\n",
      "          12       0.97      0.75      0.85       140\n",
      "          13       0.63      0.19      0.29       359\n",
      "          14       0.76      0.68      0.72        87\n",
      "          15       0.22      0.03      0.06       150\n",
      "          16       0.52      0.23      0.32       132\n",
      "          17       0.42      0.17      0.25       109\n",
      "          18       0.98      0.78      0.87       350\n",
      "          19       0.54      0.19      0.28        74\n",
      "          20       0.91      0.50      0.64       199\n",
      "          21       0.78      0.45      0.57       134\n",
      "          22       0.72      0.44      0.55        95\n",
      "          23       0.91      0.74      0.82        93\n",
      "          24       0.15      0.03      0.05       106\n",
      "          25       0.29      0.10      0.15       158\n",
      "          26       0.23      0.03      0.06        92\n",
      "          27       0.88      0.48      0.62        91\n",
      "          28       0.74      0.56      0.64        89\n",
      "          29       0.93      0.59      0.73       167\n",
      "          30       0.58      0.26      0.36      1073\n",
      "          31       0.23      0.07      0.11       135\n",
      "          32       0.68      0.36      0.47       654\n",
      "          33       0.62      0.22      0.33       390\n",
      "          34       0.94      0.67      0.78      3773\n",
      "          35       0.90      0.72      0.80      3821\n",
      "          36       0.85      0.49      0.62      1501\n",
      "          37       0.95      0.50      0.66       150\n",
      "          38       0.88      0.63      0.73       412\n",
      "          39       0.94      0.42      0.58       157\n",
      "          40       0.88      0.67      0.76       121\n",
      "          41       0.87      0.52      0.65       199\n",
      "          42       0.80      0.25      0.38       158\n",
      "          43       0.53      0.19      0.28       152\n",
      "          44       0.38      0.10      0.16        82\n",
      "          45       0.90      0.40      0.56        87\n",
      "          46       0.95      0.75      0.84        48\n",
      "          47       0.71      0.43      0.54       234\n",
      "          48       0.87      0.47      0.61       618\n",
      "          49       0.80      0.31      0.45      1697\n",
      "          50       0.69      0.34      0.46       252\n",
      "          51       0.96      0.51      0.66       150\n",
      "          52       0.93      0.43      0.59        90\n",
      "          53       0.86      0.56      0.68       865\n",
      "          54       0.38      0.04      0.07        79\n",
      "          55       1.00      0.71      0.83        77\n",
      "          56       0.66      0.27      0.38        86\n",
      "          57       1.00      0.75      0.86        77\n",
      "          58       0.29      0.08      0.13        71\n",
      "          59       0.32      0.08      0.12        92\n",
      "          60       0.95      0.71      0.81      2765\n",
      "          61       0.66      0.37      0.47        63\n",
      "          62       0.95      0.67      0.79      1772\n",
      "          63       0.15      0.02      0.03       153\n",
      "          64       0.87      0.50      0.64        96\n",
      "          65       0.95      0.68      0.79       369\n",
      "          66       0.85      0.64      0.73       282\n",
      "          67       0.82      0.46      0.59       101\n",
      "          68       0.79      0.43      0.56       473\n",
      "          69       0.91      0.66      0.77       668\n",
      "          70       0.35      0.04      0.08       138\n",
      "          71       0.84      0.67      0.75        88\n",
      "          72       0.76      0.45      0.56        85\n",
      "          73       0.54      0.34      0.41        86\n",
      "          74       0.82      0.48      0.60       111\n",
      "          75       0.55      0.32      0.40        82\n",
      "          76       0.82      0.56      0.66       295\n",
      "          77       0.78      0.42      0.55       140\n",
      "          78       0.70      0.14      0.24       291\n",
      "          79       0.54      0.26      0.35       115\n",
      "          80       0.47      0.20      0.28       322\n",
      "          81       0.98      0.64      0.77       299\n",
      "          82       0.91      0.49      0.63       169\n",
      "          83       0.78      0.55      0.65        94\n",
      "          84       0.78      0.60      0.68        84\n",
      "          85       0.56      0.42      0.48        83\n",
      "          86       0.44      0.20      0.28       120\n",
      "          87       0.97      0.40      0.56       412\n",
      "          88       0.42      0.09      0.15       109\n",
      "          89       0.29      0.02      0.03       110\n",
      "          90       1.00      0.68      0.81        59\n",
      "          91       0.67      0.40      0.50       118\n",
      "          92       0.22      0.02      0.04       183\n",
      "          93       0.65      0.26      0.37       300\n",
      "          94       0.97      0.77      0.86        97\n",
      "          95       0.91      0.56      0.69       259\n",
      "          96       0.09      0.01      0.03        68\n",
      "          97       0.58      0.25      0.35        71\n",
      "          98       0.70      0.16      0.26       186\n",
      "          99       0.76      0.51      0.61       253\n",
      "\n",
      "   micro avg       0.85      0.51      0.64     40090\n",
      "   macro avg       0.70      0.39      0.49     40090\n",
      "weighted avg       0.81      0.51      0.62     40090\n",
      " samples avg       0.66      0.55      0.57     40090\n",
      "\n"
     ]
    },
    {
     "name": "stderr",
     "output_type": "stream",
     "text": [
      "C:\\Users\\DHIRAAJ\\AppData\\Roaming\\Python\\Python311\\site-packages\\sklearn\\metrics\\_classification.py:1344: UndefinedMetricWarning: Precision and F-score are ill-defined and being set to 0.0 in samples with no predicted labels. Use `zero_division` parameter to control this behavior.\n",
      "  _warn_prf(average, modifier, msg_start, len(result))\n"
     ]
    }
   ],
   "source": [
    "\n",
    "print(\"Precision recall report :\\n\",metrics.classification_report(y_test_multilabel, predictions))"
   ]
  },
  {
   "cell_type": "code",
   "execution_count": 33,
   "metadata": {},
   "outputs": [],
   "source": [
    "\n",
    "import dill\n",
    "model_data = 'model_data.sav'\n",
    "tfidf_data = 'tfidf_data.sav'\n",
    "bow_data = 'bow_data.sav'\n",
    "dill.dump(classifier, open(model_data, 'wb'))\n",
    "dill.dump(tfvectorizer, open(tfidf_data, 'wb'))\n",
    "dill.dump(vectorizer, open(bow_data, 'wb'))"
   ]
  },
  {
   "cell_type": "code",
   "execution_count": null,
   "metadata": {},
   "outputs": [],
   "source": []
  }
 ],
 "metadata": {
  "kernelspec": {
   "display_name": "Python 3",
   "language": "python",
   "name": "python3"
  },
  "language_info": {
   "codemirror_mode": {
    "name": "ipython",
    "version": 3
   },
   "file_extension": ".py",
   "mimetype": "text/x-python",
   "name": "python",
   "nbconvert_exporter": "python",
   "pygments_lexer": "ipython3",
   "version": "3.11.4"
  }
 },
 "nbformat": 4,
 "nbformat_minor": 2
}
